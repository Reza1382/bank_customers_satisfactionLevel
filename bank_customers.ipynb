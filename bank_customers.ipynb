{
 "cells": [
  {
   "cell_type": "markdown",
   "id": "173b9052-5fb2-4063-ab91-25ab15724bed",
   "metadata": {},
   "source": [
    "# 🎯 مقدمه پروژه\n",
    "\n",
    "در این پروژه، یک دیتاست ساختگی اما واقع‌گرایانه در حوزه **رضایت مشتریان بانکی** طراحی و تولید شده است. این دیتاست شامل اطلاعات 300 مشتری فرضی بانک بوده و ویژگی‌هایی مانند سن، جنسیت، درآمد ماهانه، داشتن کارت اعتباری، تعداد محصولات استفاده‌شده، میزان رضایت و وضعیت ترک بانک (churn) را در بر می‌گیرد.\n",
    "\n",
    "به‌منظور شبیه‌سازی شرایط واقعی و چالش‌برانگیز تحلیل داده‌ها، بخشی از داده‌ها به‌صورت تصادفی **دارای مقادیر گمشده (Missing Values)** هستند، به‌ویژه در ستون‌های عددی مانند سن، درآمد و سطح رضایت."
   ]
  },
  {
   "cell_type": "markdown",
   "id": "23fff725-5a59-4776-9eb0-7494f5a4e61c",
   "metadata": {},
   "source": [
    "## ✅ اهداف پروژه\n",
    "\n",
    "1. **آشنایی با مراحل پیش‌پردازش داده‌ها** شامل بررسی و مدیریت داده‌های گمشده، نوع داده‌ها و توزیع مقادیر.\n",
    "2. **تحلیل توصیفی و تصویری داده‌ها** برای درک بهتر روابط بین ویژگی‌ها و رفتار مشتریان.\n",
    "3. **تحلیل آماری و خوشه‌بندی** برای بررسی عوامل تأثیرگذار در رضایت و وفاداری مشتریان.\n",
    "\n",
    "## 🎓 تحلیل آماری:\n",
    "برای بررسی اینکه آیا داشتن کارت اعتباری با سطح رضایت مشتری ارتباط دارد یا خیر، از آزمون t-test استفاده شد.\n",
    "نتیجه آزمون نشان داد که تفاوت میانگین سطح رضایت بین دو گروه معنادار نبود:\n",
    "\n",
    "آماره t = 1.23\n",
    "\n",
    "مقدار p = 0.22 (> 0.05)\n",
    "\n",
    "🔍 نتیجه: با سطح اطمینان 95٪ نمی‌توان ادعا کرد که تفاوت معناداری بین دو گروه وجود دارد.\n",
    "\n",
    "## تحلیل ANOVA بر اساس تعداد محصولات\n",
    "\n",
    "برای بررسی اینکه آیا میانگین سطح رضایت مشتریان بر اساس تعداد محصولاتی که خریداری کرده‌اند متفاوت است یا نه، از آزمون تحلیل واریانس (ANOVA) استفاده شد.\n",
    "\n",
    "نتایج آزمون:\n",
    "\n",
    "- F = 0.71\n",
    "- p = 0.55 (> 0.05)\n",
    "\n",
    "🔍 **نتیجه:** تفاوت معناداری بین گروه‌های مختلف از نظر سطح رضایت مشاهده نشد.\n",
    "\n"
   ]
  },
  {
   "cell_type": "markdown",
   "id": "477ea97c-b316-4995-afb8-4cc39fd64b1c",
   "metadata": {},
   "source": [
    "## 🧾 ویژگی‌های اصلی دیتاست\n",
    "\n",
    "| ستون | توضیح |\n",
    "|------|--------|\n",
    "| `CustomerID` | شناسه یکتای مشتری |\n",
    "| `Age` | سن مشتری |\n",
    "| `Gender` | جنسیت مشتری |\n",
    "| `Income` | درآمد ماهانه (هزار دلار) |\n",
    "| `HasCreditCard` | آیا مشتری کارت اعتباری دارد یا نه |\n",
    "| `NumOfProducts` | تعداد محصولات بانکی که مشتری استفاده می‌کند |\n",
    "| `SatisfactionLevel` | میزان رضایت مشتری از خدمات (مقیاس 1 تا 5) |\n",
    "| `Churned` | آیا مشتری از بانک جدا شده یا نه (True/False) |"
   ]
  },
  {
   "cell_type": "code",
   "execution_count": 1,
   "id": "f1c50aad-0263-472d-ab59-18ec9063c831",
   "metadata": {},
   "outputs": [],
   "source": [
    "# import libraries\n",
    "\n",
    "import numpy as np \n",
    "import pandas as pd \n",
    "import matplotlib.pyplot as plt \n",
    "import seaborn as sns"
   ]
  },
  {
   "cell_type": "code",
   "execution_count": 2,
   "id": "70f0e01e-15ea-481a-8c7c-d153f153625f",
   "metadata": {},
   "outputs": [
    {
     "name": "stdout",
     "output_type": "stream",
     "text": [
      "   CustomerID   Age  Gender  Income  HasCreditCard  NumOfProducts  \\\n",
      "0        1000  56.0  Female    6.18           True              3   \n",
      "1        1001  69.0    Male    8.47           True              1   \n",
      "2        1002  46.0    Male    3.11          False              2   \n",
      "3        1003  32.0  Female    8.82           True              1   \n",
      "4        1004  60.0  Female     NaN           True              1   \n",
      "\n",
      "   SatisfactionLevel  Churned  \n",
      "0                3.0    False  \n",
      "1                4.0    False  \n",
      "2                2.0    False  \n",
      "3                2.0    False  \n",
      "4                3.0    False  \n"
     ]
    }
   ],
   "source": [
    "# reading data set\n",
    "\n",
    "df = pd .read_csv('bank_customers.csv')\n",
    "print(df.head())"
   ]
  },
  {
   "cell_type": "code",
   "execution_count": 3,
   "id": "dea69af8-a0ff-4e67-9599-10fe0fa9ad80",
   "metadata": {},
   "outputs": [
    {
     "name": "stdout",
     "output_type": "stream",
     "text": [
      "<class 'pandas.core.frame.DataFrame'>\n",
      "RangeIndex: 300 entries, 0 to 299\n",
      "Data columns (total 8 columns):\n",
      " #   Column             Non-Null Count  Dtype  \n",
      "---  ------             --------------  -----  \n",
      " 0   CustomerID         300 non-null    int64  \n",
      " 1   Age                270 non-null    float64\n",
      " 2   Gender             300 non-null    object \n",
      " 3   Income             270 non-null    float64\n",
      " 4   HasCreditCard      300 non-null    bool   \n",
      " 5   NumOfProducts      300 non-null    int64  \n",
      " 6   SatisfactionLevel  270 non-null    float64\n",
      " 7   Churned            300 non-null    bool   \n",
      "dtypes: bool(2), float64(3), int64(2), object(1)\n",
      "memory usage: 14.8+ KB\n",
      "None\n"
     ]
    }
   ],
   "source": [
    "print(df.info())"
   ]
  },
  {
   "cell_type": "code",
   "execution_count": 4,
   "id": "3b9feaf2-c748-4d4c-9a77-d34672b4b333",
   "metadata": {},
   "outputs": [
    {
     "data": {
      "text/plain": [
       "count    270.000000\n",
       "mean       3.059259\n",
       "std        1.436450\n",
       "min        1.000000\n",
       "25%        2.000000\n",
       "50%        3.000000\n",
       "75%        4.000000\n",
       "max        5.000000\n",
       "Name: SatisfactionLevel, dtype: float64"
      ]
     },
     "execution_count": 4,
     "metadata": {},
     "output_type": "execute_result"
    }
   ],
   "source": [
    "df['SatisfactionLevel'].describe()"
   ]
  },
  {
   "cell_type": "markdown",
   "id": "8185fcae-664b-4720-9c0c-6b9722702f4f",
   "metadata": {},
   "source": [
    "## Now we want manage the Nan values in dataset and remove or replace thats by suitable values."
   ]
  },
  {
   "cell_type": "code",
   "execution_count": 5,
   "id": "054858fc-0694-45a8-964d-b673e59bf88e",
   "metadata": {},
   "outputs": [
    {
     "name": "stdout",
     "output_type": "stream",
     "text": [
      "CustomerID            0\n",
      "Age                  30\n",
      "Gender                0\n",
      "Income               30\n",
      "HasCreditCard         0\n",
      "NumOfProducts         0\n",
      "SatisfactionLevel    30\n",
      "Churned               0\n",
      "dtype: int64\n"
     ]
    }
   ],
   "source": [
    "# Managing NaN values \n",
    "\n",
    "print(df.isnull().sum())"
   ]
  },
  {
   "cell_type": "code",
   "execution_count": 6,
   "id": "b1ed4ee4-2eaf-44e3-8b0b-6abc524ee72a",
   "metadata": {},
   "outputs": [
    {
     "name": "stderr",
     "output_type": "stream",
     "text": [
      "C:\\Users\\LENOVO\\AppData\\Local\\Temp\\ipykernel_9740\\3513492566.py:3: FutureWarning: A value is trying to be set on a copy of a DataFrame or Series through chained assignment using an inplace method.\n",
      "The behavior will change in pandas 3.0. This inplace method will never work because the intermediate object on which we are setting values always behaves as a copy.\n",
      "\n",
      "For example, when doing 'df[col].method(value, inplace=True)', try using 'df.method({col: value}, inplace=True)' or df[col] = df[col].method(value) instead, to perform the operation inplace on the original object.\n",
      "\n",
      "\n",
      "  df['Age'].fillna(df['Age'].mean(), inplace = True)\n",
      "C:\\Users\\LENOVO\\AppData\\Local\\Temp\\ipykernel_9740\\3513492566.py:4: FutureWarning: A value is trying to be set on a copy of a DataFrame or Series through chained assignment using an inplace method.\n",
      "The behavior will change in pandas 3.0. This inplace method will never work because the intermediate object on which we are setting values always behaves as a copy.\n",
      "\n",
      "For example, when doing 'df[col].method(value, inplace=True)', try using 'df.method({col: value}, inplace=True)' or df[col] = df[col].method(value) instead, to perform the operation inplace on the original object.\n",
      "\n",
      "\n",
      "  df['Income'].fillna(df['Income'].mean(), inplace = True)\n"
     ]
    }
   ],
   "source": [
    "# Replacing NaN values in columns \"Age\" & \"Income\" by mean of the column \n",
    "\n",
    "df['Age'].fillna(df['Age'].mean(), inplace = True)\n",
    "df['Income'].fillna(df['Income'].mean(), inplace = True)"
   ]
  },
  {
   "cell_type": "code",
   "execution_count": 7,
   "id": "03dfcbea-4c3e-4748-ae0c-eee636ebe1d9",
   "metadata": {},
   "outputs": [],
   "source": [
    "# Removing NaN values of column \"SatisfactionLevel\" \n",
    "\n",
    "df.dropna(subset = ['SatisfactionLevel'], inplace = True)"
   ]
  },
  {
   "cell_type": "markdown",
   "id": "9d953c16-4f09-48e7-a3e5-352189a69561",
   "metadata": {},
   "source": [
    "# In this part we want generate a definition for plotting."
   ]
  },
  {
   "cell_type": "code",
   "execution_count": 8,
   "id": "2bf4ffa4-0cf9-4dc5-9a5c-8ee7b061aaf7",
   "metadata": {},
   "outputs": [],
   "source": [
    "# plotting def\n",
    "def plotting(data, plottype, title, Xlabel, Ylabel):\n",
    "    ''' \n",
    "    data : The data set that had one row and one column\n",
    "    plottype : barplot, lineplot or scatter\n",
    "    title : name of plot\n",
    "    Xlabel : name of 'x' axis\n",
    "    Ylabel : name of 'y' axis\n",
    "    '''\n",
    "    plt.figure(figsize=(6, 4))\n",
    "    plt.title(title)\n",
    "    plt.xlabel(Xlabel)\n",
    "    plt.ylabel(Ylabel)\n",
    "    sns.set_style('whitegrid')\n",
    "    if plottype == 'barplot':\n",
    "        sns.barplot(x = data.index, hue = data.index, y = data.values, palette='plasma', width=0.8, errorbar=None)\n",
    "    elif plottype == 'lineplot':\n",
    "        sns.lineplot(x = data.index, hue = data.index, y = data.values, color = 'r')\n",
    "    elif plottype == 'scatter':\n",
    "        sns.scatterplot(data)\n",
    "    plt.legend(bbox_to_anchor=(1.25, 1))  \n",
    "    plt.tight_layout()\n",
    "    return plt.show()"
   ]
  },
  {
   "cell_type": "code",
   "execution_count": 9,
   "id": "16ae2eec-5e46-45ed-85ea-315d8f1ff3ce",
   "metadata": {},
   "outputs": [
    {
     "data": {
      "image/png": "[encoded data removed]",
      "text/plain": [
       "<Figure size 600x400 with 1 Axes>"
      ]
     },
     "metadata": {},
     "output_type": "display_data"
    }
   ],
   "source": [
    "plotting(df['SatisfactionLevel'].value_counts(), 'barplot', 'Customer Satisfaction Level', 'point', 'number')"
   ]
  },
  {
   "cell_type": "code",
   "execution_count": 10,
   "id": "a07332ce-e7ff-4f7e-bbc0-8832c10f84e0",
   "metadata": {},
   "outputs": [
    {
     "name": "stdout",
     "output_type": "stream",
     "text": [
      "            mean       std\n",
      "Gender                    \n",
      "Female  2.883562  1.416700\n",
      "Male    3.266129  1.437641\n"
     ]
    },
    {
     "name": "stderr",
     "output_type": "stream",
     "text": [
      "C:\\Users\\LENOVO\\AppData\\Local\\Temp\\ipykernel_9740\\505305646.py:21: UserWarning: No artists with labels found to put in legend.  Note that artists whose label start with an underscore are ignored when legend() is called with no argument.\n",
      "  plt.legend(bbox_to_anchor=(1.25, 1))\n"
     ]
    },
    {
     "data": {
      "image/png": "[encoded data removed]",
      "text/plain": [
       "<Figure size 600x400 with 1 Axes>"
      ]
     },
     "metadata": {},
     "output_type": "display_data"
    }
   ],
   "source": [
    "# Gender Satis faction Level\n",
    "\n",
    "gender_group = df.groupby('Gender')['SatisfactionLevel'].agg(['mean', 'std'])\n",
    "print(gender_group)\n",
    "plotting(gender_group['mean'], 'barplot', 'Gender Satisfaction Level Mean', 'Gender', 'mean point')"
   ]
  },
  {
   "cell_type": "code",
   "execution_count": 11,
   "id": "0fa78453-c1b0-406b-bc3e-74aa18e51af1",
   "metadata": {},
   "outputs": [
    {
     "name": "stdout",
     "output_type": "stream",
     "text": [
      "'Income', 'Age' , 'SatisfactionLevel'\n",
      "[[ 1.         -0.03024344 -0.06399839]\n",
      " [-0.03024344  1.          0.01424128]\n",
      " [-0.06399839  0.01424128  1.        ]]\n"
     ]
    }
   ],
   "source": [
    "# Correlation between 'Income', 'Age' & 'SatisfactionLevel'\n",
    "\n",
    "corr_matrix = np.corrcoef([df['Income'], df['Age'], df['SatisfactionLevel']])\n",
    "print(\"'Income', 'Age' , 'SatisfactionLevel'\")\n",
    "print(corr_matrix)"
   ]
  },
  {
   "cell_type": "markdown",
   "id": "9ec059f1-5266-49ee-8c3c-e39bbd7dfc15",
   "metadata": {},
   "source": [
    "این ماتریس نشان می‌دهد که درآمد و میزان رضایت رابطه معناداری با هم ندارند. همچنین رابطه معناداری هم بین سن و میزان رضایت وجود ندارد."
   ]
  },
  {
   "cell_type": "code",
   "execution_count": 12,
   "id": "8902c0b3-cee3-4e94-89f6-68d7eb848aad",
   "metadata": {},
   "outputs": [],
   "source": [
    "# Convert 'string' & 'boolian' values to (0/1)\n",
    "\n",
    "df['HasCreditCard_binary'] = df['HasCreditCard'].map(lambda x : 1 if x == True else 0)\n",
    "df['Churned_binary'] = df['Churned'].map(lambda x : 1 if x == True else 0)"
   ]
  },
  {
   "cell_type": "code",
   "execution_count": 13,
   "id": "f065ee61-5d64-4487-bb46-d29b94543243",
   "metadata": {},
   "outputs": [
    {
     "name": "stdout",
     "output_type": "stream",
     "text": [
      "'CreditCard', 'SatisfactionLevel'\n",
      "[[1.         0.07207555]\n",
      " [0.07207555 1.        ]]\n"
     ]
    }
   ],
   "source": [
    "# Correlation between 'CreditCard' & 'SatisfactionLevel'\n",
    "\n",
    "corr_matrix = np.corrcoef([df['HasCreditCard_binary'], df['SatisfactionLevel']])\n",
    "print(\"'CreditCard', 'SatisfactionLevel'\")\n",
    "print(corr_matrix)"
   ]
  },
  {
   "cell_type": "markdown",
   "id": "550c7c25-74d9-43d0-bfea-93db529e99f4",
   "metadata": {},
   "source": [
    "این ماتریس هم نشان می‌دهد که رابطه‌ای بین داشتن کارت اعتباری و میزان رضایت مشتریان وجود ندارد."
   ]
  },
  {
   "cell_type": "code",
   "execution_count": 14,
   "id": "08bcc276-7a0e-48b6-81bd-fca01b33f49f",
   "metadata": {},
   "outputs": [
    {
     "data": {
      "image/png": "[encoded data removed]",
      "text/plain": [
       "<Figure size 640x480 with 1 Axes>"
      ]
     },
     "metadata": {},
     "output_type": "display_data"
    },
    {
     "name": "stdout",
     "output_type": "stream",
     "text": [
      "         count       mean\n",
      "Churned                  \n",
      "False      199  46.587605\n",
      "True        71  43.443192\n"
     ]
    }
   ],
   "source": [
    "# Mean of Churned persons's Age\n",
    "\n",
    "Churned_persons = df.groupby('Churned')['Age'].agg(['count', 'mean'])\n",
    "sns.barplot(hue= ['True', 'False'], y = Churned_persons['mean']) \n",
    "plt.tight_layout()\n",
    "plt.show()\n",
    "print(Churned_persons)"
   ]
  },
  {
   "cell_type": "markdown",
   "id": "f7d2e15b-c405-44e4-ac8c-c7ebe707371d",
   "metadata": {},
   "source": [
    " این نمودار نشان می‌دهد که میانگین سن افرادی که که از بانک خارج شده اند و افرادی که هنوز در بانک فعالیت دارند تقریبا برابر است و تفاوت معناداری بین آنها وجود ندارد."
   ]
  },
  {
   "cell_type": "code",
   "execution_count": 15,
   "id": "ff001b18-eff6-4abe-9657-83442b1165d9",
   "metadata": {},
   "outputs": [
    {
     "name": "stdout",
     "output_type": "stream",
     "text": [
      "             mean       std\n",
      "Churned                    \n",
      "False    1.984925  1.007434\n",
      "True     2.154930  0.980494\n"
     ]
    },
    {
     "data": {
      "image/png": "[encoded data removed]",
      "text/plain": [
       "<Figure size 640x480 with 1 Axes>"
      ]
     },
     "metadata": {},
     "output_type": "display_data"
    }
   ],
   "source": [
    "# Analysis of number of products in Churned and Unchurned persons. \n",
    "\n",
    "Churned_persons2 = df.groupby('Churned')['NumOfProducts'].agg(['mean', 'std'])\n",
    "sns.barplot(Churned_persons2['mean'])\n",
    "print(Churned_persons2)"
   ]
  },
  {
   "cell_type": "markdown",
   "id": "6b5c1ef8-184d-469b-b52a-aab26aa8aee6",
   "metadata": {},
   "source": [
    "این نمودار، نمودار میانگین تعداد خدمات افراد جداشده از بانک و افرادی که هنوز در بانک حساب دارند را نشان می‌دهد. همانطور که مشاهده می‌شود، هر دو گروه تقریباً میزان خدمات یکسانی از بانک دریافت می‌کنند. بنابراین، این عامل یعنی میزان خدمات نمی‌تواند معیاری برای جداشدن افراد از بانک باشد."
   ]
  },
  {
   "cell_type": "code",
   "execution_count": 16,
   "id": "e2a76291-8f25-4c7e-93d7-d8fe594b90a1",
   "metadata": {
    "scrolled": true
   },
   "outputs": [
    {
     "name": "stdout",
     "output_type": "stream",
     "text": [
      "==== Number of churned persons with credit card ====\n",
      "   Gender  Churned  HasCreditCard  Count\n",
      "0  Female    False           True     74\n",
      "1  Female    False          False     35\n",
      "2  Female     True           True     29\n",
      "3  Female     True          False      8\n",
      "4    Male    False           True     66\n",
      "5    Male    False          False     24\n",
      "6    Male     True           True     21\n",
      "7    Male     True          False     13\n",
      "\n",
      "==== Number of churned persons ====\n",
      "         count       mean\n",
      "Churned                  \n",
      "False      199  46.587605\n",
      "True        71  43.443192\n",
      "\n"
     ]
    },
    {
     "data": {
      "image/png": "[encoded data removed]",
      "text/plain": [
       "<Figure size 1000x600 with 1 Axes>"
      ]
     },
     "metadata": {},
     "output_type": "display_data"
    }
   ],
   "source": [
    "\n",
    "\n",
    "Churned_persons3 = df.groupby(['Gender', 'Churned'])['HasCreditCard'].value_counts().reset_index(name='Count')\n",
    "print('==== Number of churned persons with credit card ====')\n",
    "print(f'{Churned_persons3}\\n') \n",
    "print('==== Number of churned persons ====')\n",
    "print(f'{Churned_persons}\\n')\n",
    "\n",
    "plt.figure(figsize=(10,6))\n",
    "sns.barplot(data=Churned_persons3, x='Gender', y='Count', hue='HasCreditCard', errorbar=None)\n",
    "\n",
    "plt.title('Customers by Gender and Credit Card Status')\n",
    "plt.ylabel('Count')\n",
    "plt.show()"
   ]
  },
  {
   "cell_type": "code",
   "execution_count": 17,
   "id": "af7d38f7-61d5-49e4-9cd0-6a5d76dc4531",
   "metadata": {},
   "outputs": [
    {
     "name": "stdout",
     "output_type": "stream",
     "text": [
      "t-statistic = 1.226523442268669\n",
      "p-value = 0.22178877064144592\n",
      "❌ نتیجه: تفاوت معناداری بین دو گروه مشاهده نشد.\n"
     ]
    }
   ],
   "source": [
    "from scipy.stats import ttest_ind\n",
    "\n",
    "# حذف مقادیر گمشده از ستون‌ها\n",
    "group_with_card = df[df[\"HasCreditCard_binary\"] == 1][\"SatisfactionLevel\"].dropna()\n",
    "group_without_card = df[df[\"HasCreditCard_binary\"] == 0][\"SatisfactionLevel\"].dropna()\n",
    "\n",
    "# اجرای آزمون t-test مستقل\n",
    "stat, p_value = ttest_ind(group_with_card, group_without_card, equal_var=False)  # فرض نابرابری واریانس‌ها\n",
    "\n",
    "print(\"t-statistic =\", stat)\n",
    "print(\"p-value =\", p_value)\n",
    "\n",
    "# تفسیر نتیجه\n",
    "alpha = 0.05\n",
    "if p_value < alpha:\n",
    "    print(\"✅ نتیجه: تفاوت معنادار آماری بین دو گروه وجود دارد.\")\n",
    "else:\n",
    "    print(\"❌ نتیجه: تفاوت معناداری بین دو گروه مشاهده نشد.\")\n"
   ]
  },
  {
   "cell_type": "code",
   "execution_count": 18,
   "id": "267711be-9eac-48bd-9a80-a7eeb63ba4ae",
   "metadata": {},
   "outputs": [
    {
     "name": "stdout",
     "output_type": "stream",
     "text": [
      "F-statistic = 0.7074574913731853\n",
      "p-value = 0.5482969577888965\n",
      "❌ نتیجه: تفاوت معناداری بین گروه‌ها مشاهده نشد.\n"
     ]
    }
   ],
   "source": [
    "from scipy.stats import f_oneway\n",
    "\n",
    "# ساخت گروه‌ها بر اساس تعداد محصول\n",
    "groups = []\n",
    "for n in sorted(df['NumOfProducts'].dropna().unique()):\n",
    "    group = df[df['NumOfProducts'] == n]['SatisfactionLevel'].dropna()\n",
    "    groups.append(group)\n",
    "\n",
    "# اجرای ANOVA\n",
    "stat, p_value = f_oneway(*groups)\n",
    "\n",
    "print(\"F-statistic =\", stat)\n",
    "print(\"p-value =\", p_value)\n",
    "\n",
    "# تفسیر نتیجه\n",
    "alpha = 0.05\n",
    "if p_value < alpha:\n",
    "    print(\"✅ نتیجه: تفاوت معناداری بین گروه‌های مختلف تعداد محصول در سطح رضایت وجود دارد.\")\n",
    "else:\n",
    "    print(\"❌ نتیجه: تفاوت معناداری بین گروه‌ها مشاهده نشد.\")\n"
   ]
  },
  {
   "cell_type": "code",
   "execution_count": null,
   "id": "79a96b11-91d5-4686-bedc-6ec43a063412",
   "metadata": {},
   "outputs": [],
   "source": []
  }
 ],
 "metadata": {
  "kernelspec": {
   "display_name": "Python 3 (ipykernel)",
   "language": "python",
   "name": "python3"
  },
  "language_info": {
   "codemirror_mode": {
    "name": "ipython",
    "version": 3
   },
   "file_extension": ".py",
   "mimetype": "text/x-python",
   "name": "python",
   "nbconvert_exporter": "python",
   "pygments_lexer": "ipython3",
   "version": "3.13.2"
  }
 },
 "nbformat": 4,
 "nbformat_minor": 5
}
